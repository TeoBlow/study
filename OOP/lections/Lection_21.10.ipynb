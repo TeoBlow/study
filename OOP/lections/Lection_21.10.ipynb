{
 "cells": [
  {
   "cell_type": "markdown",
   "metadata": {},
   "source": [
    "Template - инструкция для генерации функции или класса в процессе компиляции программы.\n",
    "\n",
    "Параметром шаблона может являться как значение переменной (как в обычных функциях) так и тип данных.\n",
    "\n"
   ]
  },
  {
   "cell_type": "code",
   "execution_count": null,
   "metadata": {
    "vscode": {
     "languageId": "cpp"
    }
   },
   "outputs": [],
   "source": [
    "template <class T>\n",
    "struct Container {\n",
    "    T payload;\n",
    "    Container(const T& value) : payload(value) {};\n",
    "};\n",
    "template <class T>\n",
    "void print(T value) {\n",
    "    std::cout << \"Value:\" << value << std::endl;\n",
    "}\n",
    "template <class T>\n",
    "struct foo {\n",
    "    static const int value = 0;\n",
    "};\n"
   ]
  }
 ],
 "metadata": {
  "language_info": {
   "name": "python"
  }
 },
 "nbformat": 4,
 "nbformat_minor": 2
}
