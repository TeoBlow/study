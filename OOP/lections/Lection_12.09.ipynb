{
 "cells": [
  {
   "cell_type": "markdown",
   "metadata": {},
   "source": [
    "Стек растет сверху вниз по адресам.\n",
    "Динамическая память (malloc, relloc) - снизу вверх."
   ]
  },
  {
   "cell_type": "code",
   "execution_count": null,
   "metadata": {
    "vscode": {
     "languageId": "cpp"
    }
   },
   "outputs": [],
   "source": [
    "// Пример переполнения стека\n",
    "int f(){\n",
    "    return f();\n",
    "}"
   ]
  },
  {
   "cell_type": "markdown",
   "metadata": {},
   "source": [
    "Стек\n",
    "|   |\n",
    "|   |\n",
    "| 10|\n",
    "| 5 |\n",
    "|   |"
   ]
  },
  {
   "cell_type": "code",
   "execution_count": null,
   "metadata": {
    "vscode": {
     "languageId": "cpp"
    }
   },
   "outputs": [],
   "source": [
    "int f() {\n",
    "    int a = 5;\n",
    "    int b = 10;\n",
    "    M(15);\n",
    "}"
   ]
  },
  {
   "cell_type": "markdown",
   "metadata": {},
   "source": [
    "Надо знать стек для безопасности и понимания, что он может переполнится.\n",
    "Стек можно расширять (но ручками)."
   ]
  },
  {
   "cell_type": "markdown",
   "metadata": {},
   "source": [
    "# Разница между процессами в Windows и Unix"
   ]
  },
  {
   "cell_type": "markdown",
   "metadata": {},
   "source": [
    "POSIX   | WinAPI\n",
    "------------------\n",
    "Unix    | Windows\n",
    "        |\n",
    "fork()  | Create Process \n",
    "exec *  | (.......)\n",
    "\n",
    "UNIX - API выглядит как куча коротких команд, есть жёсткая иерархия процессов (завершив род.процесс, умирают все остальные)\n",
    "WINDOWS - Все процессы независимы (завершив род.процесс, все остальные выживают)"
   ]
  },
  {
   "cell_type": "markdown",
   "metadata": {},
   "source": [
    "# Как процессы общаются между собой?\n",
    "IPC - (PIPE, MMAP, SOCKET, FILE)\n",
    "\n",
    "Процесс может находится в состоянии: **действия** (просто пашит процесс), **блокировки** (операционка блочит тебя, пока работает с файлом, после разблокировки переходит сначала на *готовность*, а не сразу к *действию* ), **готовности** (операционка ставит процесс на паузу, чтобы работал другой процесс)"
   ]
  },
  {
   "cell_type": "markdown",
   "metadata": {},
   "source": [
    "`fork = 0`, если процесс запущен, `-1`, если процесс незапущен, и `> 0`, если работает главный процесс, а не дочерний."
   ]
  },
  {
   "cell_type": "code",
   "execution_count": null,
   "metadata": {
    "vscode": {
     "languageId": "cpp"
    }
   },
   "outputs": [],
   "source": [
    "int main () {\n",
    "    int r = 10;\n",
    "    int pid = fork();  // Запускает дочерний процесс и в главном становится > 0, в дочернем = 0.\n",
    "    if (pid > 0) {\n",
    "        printf(\"sdjhfskdhf\");\n",
    "        r = 15;\n",
    "    }\n",
    "    else {\n",
    "        r = 5;\n",
    "    }\n",
    "}"
   ]
  },
  {
   "cell_type": "markdown",
   "metadata": {},
   "source": [
    "**Вывод:** 5\n",
    "15"
   ]
  },
  {
   "cell_type": "markdown",
   "metadata": {},
   "source": []
  }
 ],
 "metadata": {
  "language_info": {
   "name": "python"
  },
  "orig_nbformat": 4
 },
 "nbformat": 4,
 "nbformat_minor": 2
}
