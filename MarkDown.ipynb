{
 "cells": [
  {
   "cell_type": "markdown",
   "metadata": {},
   "source": [
    "Heading\n",
    "# H1\n",
    "## H2\n",
    "### H3\n",
    "\n",
    "Bold \t**bold text**\n",
    "Italic \t*italicized text*\n",
    "Blockquote \t> blockquote\n",
    "\n",
    "Ordered List\n",
    "1. First item\n",
    "2. Second item\n",
    "3. Third item\n",
    "\n",
    "Unordered List \t\n",
    "- First item\n",
    "- Second item\n",
    "- Third item\n",
    "\n",
    "Code \t`code`\n",
    "\n",
    "Horizontal Rule \t---\n",
    "\n",
    "Link \t[title](https://www.example.com)\n",
    "\n",
    "Image \t![alt text](image.jpg)"
   ]
  }
 ],
 "metadata": {
  "language_info": {
   "name": "python"
  },
  "orig_nbformat": 4
 },
 "nbformat": 4,
 "nbformat_minor": 2
}
