{
 "cells": [
  {
   "cell_type": "markdown",
   "metadata": {},
   "source": [
    "# **Использование указателей**"
   ]
  },
  {
   "cell_type": "markdown",
   "metadata": {},
   "source": [
    "Поиск элемента в массиве"
   ]
  },
  {
   "cell_type": "code",
   "execution_count": null,
   "metadata": {
    "vscode": {
     "languageId": "cpp"
    }
   },
   "outputs": [],
   "source": [
    "// Поиск элемента в массиве\n",
    "\n",
    "bool contains(int * p, int * q, int value) { // p - указ. на первый элемент массива, q - на последний\n",
    "    for (; p != q; ++p) {\n",
    "        if (*p == value) {\n",
    "            return true;\n",
    "        }\n",
    "        return false;\n",
    "    }\n",
    "}"
   ]
  },
  {
   "cell_type": "markdown",
   "metadata": {},
   "source": [
    "Функция для поиска максимума в массиве"
   ]
  },
  {
   "cell_type": "code",
   "execution_count": null,
   "metadata": {
    "vscode": {
     "languageId": "cpp"
    }
   },
   "outputs": [],
   "source": [
    "// Функция для поиска максимума в массиве\n",
    "\n",
    "int max_element (int * p, int * q) {\n",
    "    int max = *p;\n",
    "    for (; p != q; ++p) {\n",
    "        if (*p > max) {\n",
    "            max = *p;\n",
    "        }\n",
    "    }\n",
    "    return max;\n",
    "}"
   ]
  },
  {
   "cell_type": "code",
   "execution_count": null,
   "metadata": {
    "vscode": {
     "languageId": "cpp"
    }
   },
   "outputs": [],
   "source": [
    "// Функция для поиска указателя на максимум в массиве\n",
    "\n",
    "int * max_element(int * p, int * q) {\n",
    "    int * pmax = *p;\n",
    "    for (; p != q; ++p) {\n",
    "        if (*p > *pmax) {\n",
    "            pmax = p;\n",
    "        }\n",
    "    }\n",
    "    return pmax;\n",
    "}"
   ]
  },
  {
   "cell_type": "markdown",
   "metadata": {},
   "source": [
    "# Ссылки \n",
    "Более красивые указатели"
   ]
  },
  {
   "cell_type": "code",
   "execution_count": null,
   "metadata": {
    "vscode": {
     "languageId": "cpp"
    }
   },
   "outputs": [],
   "source": [
    "void swap (int & a, int & b) {\n",
    "    int t = b;\n",
    "    b = a;\n",
    "    a = t;\n",
    "}\n",
    "\n",
    "int main () {\n",
    "    int k = 10, m = 20;\n",
    "    swap (k,m);\n",
    "    std::cout << k << m;\n",
    "    return 0;\n",
    "}"
   ]
  },
  {
   "cell_type": "markdown",
   "metadata": {},
   "source": [
    "Ссылка такая же как указатель, но с некоторыми отличиями:"
   ]
  },
  {
   "cell_type": "markdown",
   "metadata": {},
   "source": [
    "1) Ссылка не может быть неинициализированной"
   ]
  },
  {
   "cell_type": "code",
   "execution_count": null,
   "metadata": {
    "vscode": {
     "languageId": "cpp"
    }
   },
   "outputs": [],
   "source": [
    "int * p; // OK\n",
    "int & l; // Error"
   ]
  },
  {
   "cell_type": "markdown",
   "metadata": {},
   "source": [
    "2) У ссылки нет нулевого значения"
   ]
  },
  {
   "cell_type": "code",
   "execution_count": null,
   "metadata": {
    "vscode": {
     "languageId": "cpp"
    }
   },
   "outputs": [],
   "source": [
    "int * p = 0; // OK\n",
    "int & l = 0; // Error"
   ]
  },
  {
   "cell_type": "markdown",
   "metadata": {},
   "source": [
    "3) Ссылку нельзя переинициализировать"
   ]
  },
  {
   "cell_type": "code",
   "execution_count": null,
   "metadata": {
    "vscode": {
     "languageId": "cpp"
    }
   },
   "outputs": [],
   "source": [
    "int a = 10, b = 20;\n",
    "int * p = &a;   // р указывает на а\n",
    "p = &b;         // p указывает на b\n",
    "int & l = a;    // l ссылается на а\n",
    "l = b;          // l присваивается значение b"
   ]
  },
  {
   "cell_type": "markdown",
   "metadata": {},
   "source": [
    "4) Нельзя получить адрес ссылки или ссылку на ссылку"
   ]
  },
  {
   "cell_type": "code",
   "execution_count": null,
   "metadata": {
    "vscode": {
     "languageId": "cpp"
    }
   },
   "outputs": [],
   "source": [
    "int a = 10;\n",
    "int * p = &a;   //р указывает на а\n",
    "int ** pp = &p; // рр указывает на переменную р\n",
    "int & l = a;    // l ссылается на а\n",
    "int * pl = & l; // pl указывает на переменную а\n",
    "int && ll = l;  // Error"
   ]
  },
  {
   "cell_type": "markdown",
   "metadata": {},
   "source": [
    "5) Нельзя создавать массивы ссылок"
   ]
  },
  {
   "cell_type": "code",
   "execution_count": null,
   "metadata": {
    "vscode": {
     "languageId": "cpp"
    }
   },
   "outputs": [],
   "source": [
    "int * mp[10] = {};  // Массив указателей на int\n",
    "int & ml[10] = {};  // Error\n",
    "\n",
    "// Но ссылку на массив - можно\n",
    "int (&a)[10];   // Надо просто бахнуть скобки"
   ]
  },
  {
   "cell_type": "markdown",
   "metadata": {},
   "source": [
    "6) Для ссылок нет арифметики"
   ]
  }
 ],
 "metadata": {
  "language_info": {
   "name": "python"
  },
  "orig_nbformat": 4
 },
 "nbformat": 4,
 "nbformat_minor": 2
}
