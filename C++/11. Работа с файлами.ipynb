{
 "cells": [
  {
   "cell_type": "markdown",
   "metadata": {},
   "source": [
    "# Работа с файлами"
   ]
  },
  {
   "cell_type": "markdown",
   "metadata": {},
   "source": [
    "При работе с файлами всегда необходимо помнить две вещи:\n",
    "\n",
    "1. Перед началом работы с файлом его необходимо открыть;\n",
    "2. После завершения работы с файлом его необходимо закрыть.\n",
    "\n",
    "\n",
    "Если файл не открыт или же неверно открыт, то вы не можете полноценно работать с его содержимым. \n",
    "\n",
    "\n",
    "\n",
    "С закрытием все проще, но и коварнее. Если вы не закроете файл, то программа будет работать верно, тем не менее, чем больше будет открытых файлов, тем больше программа будет перегружена и в какой-то момент она просто зависнет или выключиться."
   ]
  },
  {
   "cell_type": "markdown",
   "metadata": {},
   "source": [
    "# Запись данных в файл"
   ]
  },
  {
   "cell_type": "markdown",
   "metadata": {},
   "source": [
    "При записи данных в файл его изначально необходимо открыть. Для этого в языке C++ используется класс **ofstream**:"
   ]
  },
  {
   "cell_type": "code",
   "execution_count": null,
   "metadata": {
    "vscode": {
     "languageId": "cpp"
    }
   },
   "outputs": [],
   "source": [
    "// Создание/открытие файла \"examples.txt\"\n",
    "ofstream itproger_file(\"examples.txt\");\n",
    "// Можно было использовать метод open\n",
    "// ofstream itproger_file;\n",
    "// itproger_file.open(\"examples.txt\");\n",
    "// но первая запись короче, поэтому стоит использовать её\n",
    "if (itproger_file.is_open()) { // Проверяем открыт ли файл\n",
    "\titproger_file << \"Simple text\"; // Записываем текст в файл\n",
    "\titproger_file.close(); // Всегда необходимо закрывать файл\n",
    "} else // Если файл не удалось открыть, тогда выдаем ошибку\n",
    "\tcout << \"Error!\" << endl;"
   ]
  },
  {
   "cell_type": "markdown",
   "metadata": {},
   "source": [
    "Таким образом мы можем открыть файл и поместить в него любую информацию.\n",
    "\n",
    "\n",
    "\n",
    "При открытии файла можно указать режим открытия. Существуют несколько режимов и все они представлены в коде ниже:"
   ]
  },
  {
   "cell_type": "code",
   "execution_count": null,
   "metadata": {
    "vscode": {
     "languageId": "cpp"
    }
   },
   "outputs": [],
   "source": [
    "ofstream file(\"test.txt\", ios_base::in); // Пример\n",
    "\n",
    "ios_base::in - // открытие для чтения\n",
    "ios_base::out - // открытие для записи\n",
    "ios_base::ate - // при открытии перенести указатель в конец файла\n",
    "ios_base::app - // открыть файл для записи в конец файла\n",
    "ios_base::trunc - // удалить содержимое файла, если он существует\n",
    "ios_base::binary - // открытие файла в двоичном режиме"
   ]
  },
  {
   "cell_type": "markdown",
   "metadata": {},
   "source": [
    "Режим необходимо прописывать в качестве второго параметра при открытии файла:"
   ]
  },
  {
   "cell_type": "code",
   "execution_count": null,
   "metadata": {
    "vscode": {
     "languageId": "cpp"
    }
   },
   "outputs": [],
   "source": [
    "#include <iostream>\n",
    "#include <fstream>\n",
    "\n",
    "using namespace std; \n",
    "\n",
    "int main() {\n",
    "\t// Открываем файл для записи в него текста\n",
    "\tofstream file(\"test.txt\", ios_base::out);\n",
    "\tif (file.is_open()) { // Проверяем открыт ли сам файл\n",
    "\t\tfile << \"Simple world\"; // Записываем текст в начало файла\n",
    "\t\ttextFile.close(); // Закрываем файл\n",
    "\t}\n",
    " \n",
    "\tcin.get();\n",
    "\treturn 0; \n",
    "}"
   ]
  },
  {
   "cell_type": "markdown",
   "metadata": {},
   "source": [
    "# Чтение данных из файла"
   ]
  },
  {
   "cell_type": "markdown",
   "metadata": {},
   "source": [
    "Для чтения данных файл необходимо также изначально открыть и в конце закрыть. Чтобы прочесть содержимое файла используется класс **ifstream**:"
   ]
  },
  {
   "cell_type": "code",
   "execution_count": null,
   "metadata": {
    "vscode": {
     "languageId": "cpp"
    }
   },
   "outputs": [],
   "source": [
    "#include <iostream>\n",
    "#include <fstream>\n",
    "\n",
    "using namespace std; \n",
    "\n",
    "int main() {\n",
    "\t// здесь будет храниться промежуточный текст,\n",
    "\t// который мы будем считывать из файла\n",
    "\tchar temp[100];\n",
    "\tifstream some_file(\"test.txt\"); // открываем файл для чтения\n",
    "\n",
    "\t// считываем лишь первое слово и помещаем в переменную temp\n",
    "\tsome_file >> temp;\n",
    "\tcout << temp << endl; // выводим эту переменную\n",
    "\n",
    "\t// Считываем определенное количество символов - 100\n",
    "\t// и записываем их в нашу переменную\n",
    "\tsome_file.getline(temp, 100);\n",
    "\tsome_file.close(); // Закрываем файл\n",
    "\tcout << temp << endl; // Отображаем переменную temp\n",
    " \n",
    "\tcin.get();\n",
    "\treturn 0; \n",
    "}"
   ]
  }
 ],
 "metadata": {
  "language_info": {
   "name": "python"
  }
 },
 "nbformat": 4,
 "nbformat_minor": 2
}
