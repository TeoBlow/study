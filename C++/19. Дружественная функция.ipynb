{
 "cells": [
  {
   "cell_type": "markdown",
   "metadata": {},
   "source": [
    "# Дружественная функция"
   ]
  },
  {
   "cell_type": "markdown",
   "metadata": {},
   "source": [
    "Дружественная функция - это функция, что имеет доступ к полям и методам класса, при этом сама функция может быть создана вне класса. \n",
    "\n",
    "\n",
    "\n",
    "Для создания дружественной функции необходимо прописать обыкновенную функцию вне классов и далее для классов что будут работать с этой функцией объявить её, указав имя, а также поставив слово **friend** перед типом данных функции.\n",
    "\n",
    "\n",
    "\n",
    "После создания такой функции вы сможете через неё управлять всеми данными во всех классах, что указали функции её как дружественную. Доступ будет даже к тем полям, у которых модификатор доступа стоит как **private** или **protected**."
   ]
  },
  {
   "cell_type": "code",
   "execution_count": null,
   "metadata": {
    "vscode": {
     "languageId": "cpp"
    }
   },
   "outputs": [],
   "source": [
    "#include <iostream>\n",
    "#include <string>\n",
    "\n",
    "using namespace std;\n",
    "\n",
    "class Car;\n",
    "class Person {\n",
    "private:\n",
    "\tint age;\n",
    "\tstring name;\n",
    "public:\n",
    "\tPerson(string name) {\n",
    "\t\tthis->name = name;\n",
    "\t}\n",
    "\n",
    "\tfriend void info_car(Car& car, Person& person);\n",
    "};\n",
    "\n",
    "class Car {\n",
    "private:\n",
    "\tstring name;\n",
    "public:\n",
    "\tCar(string name) {\n",
    "\t\tthis->name = name;\n",
    "\t}\n",
    "\n",
    "\tfriend void info_car(Car& car, Person& person);\n",
    "};\n",
    "\n",
    "void info_car(Car& car, Person& person) {\n",
    "\tcout << \"Человек с именем: \" << person.name << \" имеет машину \" << car.name << endl;\n",
    "}\n",
    "\n",
    "int main() {\n",
    "\tsetlocale(LC_ALL, \"RU\");\n",
    "\n",
    "\tCar bmw(\"BMW\");\n",
    "\tPerson jhon(\"Jhon\");\n",
    "\tinfo_car(bmw, jhon);\n",
    "\n",
    "\treturn 0;\n",
    "}"
   ]
  }
 ],
 "metadata": {
  "language_info": {
   "name": "python"
  }
 },
 "nbformat": 4,
 "nbformat_minor": 2
}
