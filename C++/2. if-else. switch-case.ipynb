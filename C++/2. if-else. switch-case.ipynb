{
 "cells": [
  {
   "cell_type": "markdown",
   "metadata": {},
   "source": [
    "# Конструкция if - else"
   ]
  },
  {
   "cell_type": "code",
   "execution_count": null,
   "metadata": {
    "vscode": {
     "languageId": "cpp"
    }
   },
   "outputs": [],
   "source": [
    "int a = 2, b = 10;\n",
    "if (a == b) {\n",
    "    // код\n",
    "} else if (a <= b) {\n",
    "    // код\n",
    "} else {\n",
    "\t// код\n",
    "}\n",
    "// или, если одна строка кода в if:\n",
    "if (a != b && a > b)\n",
    "    //если и первое, и второе условие\n",
    "\n",
    "if (a < b || a == b)\n",
    "\t//если или первое, или второе условие"
   ]
  },
  {
   "cell_type": "markdown",
   "metadata": {},
   "source": [
    "**Тернарная операция**\n",
    "\n",
    "(сокращенная форма if-else)"
   ]
  },
  {
   "cell_type": "code",
   "execution_count": null,
   "metadata": {
    "vscode": {
     "languageId": "cpp"
    }
   },
   "outputs": [],
   "source": [
    "int x = 90, a = 8;\n",
    "int res = x < a ? (x + a) : (x - a);\n",
    "// если x < a, тогда возвращаем (х + а)\n",
    "// иначе (х - а)"
   ]
  },
  {
   "cell_type": "markdown",
   "metadata": {},
   "source": [
    "**Конструкция switch**\n",
    "\n",
    "Конструкция *case* обладает более удобным форматом для проверки множественных условий на совпадение значения. В конструкцию записывается переменная, что проверяется, а также значения на которые происходит проверка."
   ]
  },
  {
   "cell_type": "code",
   "execution_count": null,
   "metadata": {
    "vscode": {
     "languageId": "cpp"
    }
   },
   "outputs": [],
   "source": [
    "using namespace std;\n",
    "\n",
    "int x = 23;\n",
    "switch (x) { // Проверяем переменную x\n",
    "\tcase 1: // Если переменная будет равна 1, то здесь сработает код\n",
    "\t\tcout << \"Переменная равна 1\" << endl;\n",
    "\t\tbreak; // Всегда указываем конец для этого case\n",
    "\tcase 56:\n",
    "\t\tcout << \"Переменная равна 56\" << endl;\n",
    "\t\tbreak; // Всегда указываем конец для этого case\n",
    "\tcase 123:\n",
    "        cout << \"Переменная равна 123123\" << endl;\n",
    "\t\tbreak; // Всегда указываем конец для этого case\n",
    "\tdefault: // Если не сработало ни одно условие\n",
    "\t\tcout << \"Что-то другое\" << endl;\n",
    "\t\tbreak; \n",
    "}\n",
    "\n",
    "// В switch можно кидать любые типы переменных, например:\n",
    "char y = 'm';\n",
    "switch (y) {\n",
    "    case 'a':\n",
    "        cout << \"Переменная равна 'a'\" << endl;\n",
    "        break;\n",
    "    default:\n",
    "        cout << \"Что-то другое\" << endl;\n",
    "\t\tbreak; \n",
    "}"
   ]
  }
 ],
 "metadata": {
  "language_info": {
   "name": "python"
  }
 },
 "nbformat": 4,
 "nbformat_minor": 2
}
