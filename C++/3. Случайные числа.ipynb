{
 "cells": [
  {
   "cell_type": "markdown",
   "metadata": {},
   "source": [
    "# Случайные числа"
   ]
  },
  {
   "cell_type": "markdown",
   "metadata": {},
   "source": [
    "Для генерации случайных чисел необходимо использовать метод **rand()**. Чтобы создать случайное число в диапазоне от 1 до 20 потребуется следующий код:"
   ]
  },
  {
   "cell_type": "code",
   "execution_count": null,
   "metadata": {
    "vscode": {
     "languageId": "cpp"
    }
   },
   "outputs": [],
   "source": [
    "#include <time.h>\n",
    "\n",
    "int main() {\n",
    "\tsrand(time(NULL)); // Генерирует случайное число, используя текущую дату как параметр\n",
    "\tstd::cout << 1 + rand() % 20 << std::endl;\n",
    " \n",
    "\treturn 0; \n",
    "}"
   ]
  }
 ],
 "metadata": {
  "language_info": {
   "name": "python"
  }
 },
 "nbformat": 4,
 "nbformat_minor": 2
}
