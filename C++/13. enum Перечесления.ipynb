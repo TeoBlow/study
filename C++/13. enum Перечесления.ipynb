{
 "cells": [
  {
   "cell_type": "markdown",
   "metadata": {},
   "source": [
    "# Перечисления (Enum)"
   ]
  },
  {
   "cell_type": "markdown",
   "metadata": {},
   "source": [
    "Перечисления служат для удобства программистов, так как особой функциональности они не несут. Представим, что у вас большая программа со множеством массивов данных, которые человек попросту не способен запомнить. По причине неспособности все запомнить вы можете создать перечисление, что будет хранить список со всеми доступными значениями и названиями.\n",
    "\n",
    "\n",
    "\n",
    "Создав такой список вы можете обращаться к нему и выбирать подходящий для вас вариант.\n",
    "\n",
    "\n",
    "\n",
    "Для создания перечислений используйте пропишите слово **enum**, назовите его и укажите инициализацию всех вариантов.\n",
    "\n"
   ]
  },
  {
   "cell_type": "code",
   "execution_count": null,
   "metadata": {
    "vscode": {
     "languageId": "cpp"
    }
   },
   "outputs": [],
   "source": [
    "#include <iostream>\n",
    "#include <string>\n",
    "\n",
    "using namespace std;\n",
    "\n",
    "enum Options {\n",
    "\topen = 4,\n",
    "\tclose,\n",
    "\twait = 12,\n",
    "\tdel\n",
    "};\n",
    "\n",
    "struct File {\n",
    "\tfloat weight;\n",
    "\tstring name;\n",
    "\tOptions options;\n",
    "};\n",
    "\n",
    "int main() {\n",
    "\tsetlocale(LC_ALL, \"RU\");\n",
    "\n",
    "\tFile my_file;\n",
    "\tmy_file.weight = 1.5f;\n",
    "\tmy_file.name = \"test.txt\";\n",
    "\tmy_file.options = Options::close;\n",
    "\n",
    "\t// cout << my_file.options;\n",
    "\tif (my_file.options == Options::close)\n",
    "\t\tcout << \"File is close\" << endl;\n",
    "\n",
    "\treturn 0;\n",
    "}"
   ]
  }
 ],
 "metadata": {
  "language_info": {
   "name": "python"
  }
 },
 "nbformat": 4,
 "nbformat_minor": 2
}
