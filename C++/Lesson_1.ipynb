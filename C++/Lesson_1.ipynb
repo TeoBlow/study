{
 "cells": [
  {
   "cell_type": "markdown",
   "metadata": {},
   "source": [
    "# **Указатели**"
   ]
  },
  {
   "cell_type": "code",
   "execution_count": null,
   "metadata": {
    "vscode": {
     "languageId": "cpp"
    }
   },
   "outputs": [],
   "source": [
    "int i = 7;  // Создали переменную типа int\n",
    "int * p = 0; // Создали указатель p. Если равен 0, значит он ниначто не указывает"
   ]
  },
  {
   "cell_type": "code",
   "execution_count": null,
   "metadata": {
    "vscode": {
     "languageId": "cpp"
    }
   },
   "outputs": [],
   "source": [
    "p = &i;  // Теперь указывает на ячейку, где сидит i\n",
    "*p = 10; // Изменяем ячейку с адресом p, тобишь i"
   ]
  },
  {
   "cell_type": "markdown",
   "metadata": {},
   "source": [
    "*Пример работы:*"
   ]
  },
  {
   "cell_type": "code",
   "execution_count": null,
   "metadata": {
    "vscode": {
     "languageId": "cpp"
    }
   },
   "outputs": [],
   "source": [
    "#include <iostream>\n",
    "\n",
    "void swap (int a, int b) {  // Функция, которая переворачивает a и b местами\n",
    "    int an = a;\n",
    "    a = b;\n",
    "    b = an;\n",
    "}\n",
    "\n",
    "int main () {\n",
    "    int k = 10, m = 25;\n",
    "    swap(k,m);\n",
    "    std::cout << k << ' ' << m;  // 10 25\n",
    "\n",
    "    return 0;\n",
    "}"
   ]
  },
  {
   "cell_type": "markdown",
   "metadata": {},
   "source": [
    "**Вывод:**  10 25\n",
    "\n",
    "Программа сработала неправильно, т.к переменные в *swap* локальные"
   ]
  },
  {
   "cell_type": "code",
   "execution_count": null,
   "metadata": {
    "vscode": {
     "languageId": "cpp"
    }
   },
   "outputs": [],
   "source": [
    "#include <iostream>\n",
    "\n",
    "void swap (int * a, int * b) {  // Функция, которая переворачивает a и b местами\n",
    "    int an = *a;\n",
    "    *a = *b;\n",
    "    *b = an;\n",
    "}\n",
    "\n",
    "int main () {\n",
    "    int k = 10, m = 25;\n",
    "    swap(&k, &m);\n",
    "    std::cout << k << ' ' << m;  // 25 10\n",
    "\n",
    "    return 0;\n",
    "}"
   ]
  },
  {
   "cell_type": "markdown",
   "metadata": {},
   "source": [
    "**Вывод:**  25 10\n",
    "\n",
    "Программа сработала верно, т.к мы передаем в функцию *swap* указатели"
   ]
  },
  {
   "cell_type": "markdown",
   "metadata": {},
   "source": [
    "# **Массивы**"
   ]
  },
  {
   "cell_type": "code",
   "execution_count": null,
   "metadata": {
    "vscode": {
     "languageId": "cpp"
    }
   },
   "outputs": [],
   "source": [
    "int m[10] = {1, 2, 3, 4, 5, 6, 7, 8, 9, 10}; // Задаем массив [1, 2, 3, 4, 5, 6, 7, 8, 9, 10]\n",
    "\n",
    "int m2[10] = {1, 2, 3, 4, 5}; // Задаем маасив [1, 2, 3, 4, 5, 0, 0, 0, 0, 0]"
   ]
  },
  {
   "cell_type": "markdown",
   "metadata": {},
   "source": [
    "Индексация массива начинается с **0**, поэтому последний элемент массива это **n - 1**"
   ]
  },
  {
   "cell_type": "markdown",
   "metadata": {},
   "source": [
    "# *Перебор элементов массива*"
   ]
  },
  {
   "cell_type": "markdown",
   "metadata": {},
   "source": [
    "Бегалка по элементам массива по порядку."
   ]
  },
  {
   "cell_type": "code",
   "execution_count": null,
   "metadata": {
    "vscode": {
     "languageId": "cpp"
    }
   },
   "outputs": [],
   "source": [
    "    int m[10] = {1, 2, 3, 4, 5, 6, 7, 8};\n",
    "\n",
    "    for (int i : m) {    // Элемент i пробегается по элементам массива m\n",
    "        std::cout << i << ' ';\n",
    "    }\n",
    "    \n"
   ]
  },
  {
   "cell_type": "markdown",
   "metadata": {},
   "source": [
    "**Вывод:**  1 2 3 4 5 6 7 8 0 0"
   ]
  },
  {
   "cell_type": "markdown",
   "metadata": {},
   "source": [
    "Движение по элементам массива с помощью *указателей*"
   ]
  },
  {
   "cell_type": "code",
   "execution_count": null,
   "metadata": {
    "vscode": {
     "languageId": "cpp"
    }
   },
   "outputs": [],
   "source": [
    "int m[10] = {1, 2, 3, 4, 5, 6, 7, 8};\n",
    "int * p = &m[0];  // Указатель на адрес начала массива\n",
    "int * q = &m[9];  // Указатель на адрес конца массива"
   ]
  },
  {
   "cell_type": "markdown",
   "metadata": {},
   "source": [
    "![Alt text](image.png)"
   ]
  },
  {
   "cell_type": "markdown",
   "metadata": {},
   "source": [
    "*Пример работы:*"
   ]
  },
  {
   "cell_type": "code",
   "execution_count": null,
   "metadata": {
    "vscode": {
     "languageId": "cpp"
    }
   },
   "outputs": [],
   "source": [
    "int main () {\n",
    "    int m[10] = {1, 2, 3, 4, 5, 6, 7, 8, 9, 10};\n",
    "    int * p = &m[0];\n",
    "    int * q = &m[9];\n",
    "\n",
    "    std::cout << p - q << std::endl;\n",
    "    std::cout << *(p - 2) << std::endl; // Уходит не к предпоследнему элементу массива, а в ебеня\n",
    "    std::cout << p[-2] << std::endl;    // Работает также, как и чел сверху\n",
    "    std::cout << p[4] << std::endl;\n",
    "    std::cout << *(p + 4) << std::endl;\n",
    "\n",
    "    std::cout << std::endl;\n",
    "    return 0;\n",
    "}"
   ]
  },
  {
   "cell_type": "markdown",
   "metadata": {},
   "source": [
    "**Вывод:**  \n",
    "-9\n",
    "\n",
    "-10396\n",
    "\n",
    "-10396\n",
    "\n",
    "5\n",
    "\n",
    "5"
   ]
  },
  {
   "cell_type": "markdown",
   "metadata": {},
   "source": [
    "# *Заполнение массива с помощью цикла*"
   ]
  },
  {
   "cell_type": "code",
   "execution_count": null,
   "metadata": {
    "vscode": {
     "languageId": "cpp"
    }
   },
   "outputs": [],
   "source": [
    "int main () {\n",
    "    int m[10] = {};\n",
    "// Заполнялка массива\n",
    "    for (int * i = m; i <= m + 9; ++i) {  // m - первый элемент массива m[]\n",
    "        *i = (i - m) + 2;\n",
    "    }\n",
    "\n",
    "// Вывод массива\n",
    "    for (int j : m) {\n",
    "        std::cout << j << ' ';\n",
    "    }\n",
    "\n",
    "    std::cout << std::endl;\n",
    "    return 0;\n",
    "}"
   ]
  },
  {
   "cell_type": "markdown",
   "metadata": {},
   "source": [
    "**Вывод:**  2 3 4 5 6 7 8 9 10 11"
   ]
  },
  {
   "cell_type": "markdown",
   "metadata": {},
   "source": [
    "# *Передача массива в функцию*"
   ]
  },
  {
   "cell_type": "markdown",
   "metadata": {},
   "source": [
    "На примере поиска максималього элемента в массиве"
   ]
  },
  {
   "cell_type": "code",
   "execution_count": null,
   "metadata": {
    "vscode": {
     "languageId": "cpp"
    }
   },
   "outputs": [],
   "source": [
    "int max_element (int * m, int size) {   // Передаем начало массива и его размер\n",
    "    int max = *m;\n",
    "    for (int i = 1; i < size; ++i) {\n",
    "        if (m[i] > max) {\n",
    "            max = m[i];\n",
    "        }\n",
    "    }\n",
    "    return max;\n",
    "}\n",
    "\n",
    "int main () {\n",
    "    int size = 10;\n",
    "    int m[size] = {1, 2, 3, 4, 5, 123, 2324, 12, 3, 233};\n",
    "    std::cout << max_element(m, size);\n",
    "\n",
    "    std::cout << std::endl;\n",
    "    return 0;\n",
    "}"
   ]
  },
  {
   "cell_type": "markdown",
   "metadata": {},
   "source": [
    "**Вывод:**  2324"
   ]
  }
 ],
 "metadata": {
  "language_info": {
   "name": "python"
  },
  "orig_nbformat": 4
 },
 "nbformat": 4,
 "nbformat_minor": 2
}
