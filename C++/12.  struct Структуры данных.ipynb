{
 "cells": [
  {
   "cell_type": "markdown",
   "metadata": {},
   "source": [
    "# Структуры данных. Тип данных struct"
   ]
  },
  {
   "cell_type": "markdown",
   "metadata": {},
   "source": [
    "Структуры служат для описания небольшого объекта, у которого нет большого количества переменных и функций.\n",
    "\n",
    "\n",
    "Использование структур удобно, так как они имеют ряд преимуществ:\n",
    "1. Занимают меньше памяти, поэтому использование их облегчает нагрузку на процессор;\n",
    "2. Имеют простой синтаксис;\n",
    "3. Имеют лишь переменные, функции и конструкторы;\n",
    "4. На их основе можно создавать объекты.\n",
    "\n",
    "\n",
    "Получается, что благодаря структурам, можно с легкостью создавать небольшие объекты с маленьким количеством информации. Такие объекты могут описывать реальные объекты из жизни: объект книги, объект автомобиль, объект дерево и тому подобное.\n",
    "\n",
    "\n",
    "\n",
    "Для создания структуры используйте синтаксис: **struct NAME {}**. На основе одной структуры можно создавать неограниченное количество объектов, которые будут иметь одинаковые названия переменных и функций, но при этом значения у всех объектов будут разными."
   ]
  },
  {
   "cell_type": "code",
   "execution_count": null,
   "metadata": {
    "vscode": {
     "languageId": "cpp"
    }
   },
   "outputs": [],
   "source": [
    "#include <iostream>\n",
    "#include <string>\n",
    "\n",
    "using namespace std;\n",
    "\n",
    "struct Point {\n",
    "\tint x, y;\n",
    "};\n",
    "\n",
    "struct Tree {\n",
    "\tstring name;\n",
    "\tint ages;\n",
    "\tbool is_alive;\n",
    "\tfloat height;\n",
    "\tPoint place;\n",
    "\n",
    "\tvoid get_info() {\n",
    "\t\tcout << \"Name: \" << name << \". Age: \" << ages;\n",
    "\t}\n",
    "};\n",
    "\n",
    "int main() {\n",
    "\tsetlocale(LC_ALL, \"RU\");\n",
    "\n",
    "\tTree dub;\n",
    "\tdub.name = \"Дуб\";\n",
    "\tdub.ages = 24;\n",
    "\tdub.place.x = 100;\n",
    "\tdub.place.y = 10;\n",
    "\n",
    "\tTree yelka;\n",
    "\tyelka.name = \"Елка\";\n",
    "\tyelka.ages = 5;\n",
    "\tyelka.place.x = 50;\n",
    "\tyelka.place.y = 10;\n",
    "\n",
    "\t// cout << dub.name << \" - \" << yelka.name;\n",
    "\tdub.get_info();\n",
    "\tyelka.get_info();\n",
    "\n",
    "\treturn 0;\n",
    "}"
   ]
  }
 ],
 "metadata": {
  "language_info": {
   "name": "python"
  }
 },
 "nbformat": 4,
 "nbformat_minor": 2
}
