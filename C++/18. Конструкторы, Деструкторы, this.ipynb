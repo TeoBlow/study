{
 "cells": [
  {
   "cell_type": "markdown",
   "metadata": {},
   "source": [
    "# Конструкторы"
   ]
  },
  {
   "cell_type": "markdown",
   "metadata": {},
   "source": [
    "Конструктор класса очень удобен и по своему виду схож с обыкновенными функциями. За счёт конструктора мы можем установить значения для объекта сразу при его создании.\n",
    "\n",
    "\n",
    "\n",
    "Конструктор должен иметь одинаковое название с классом. Пример создания конструктора показан ниже:"
   ]
  },
  {
   "cell_type": "code",
   "execution_count": null,
   "metadata": {
    "vscode": {
     "languageId": "cpp"
    }
   },
   "outputs": [],
   "source": [
    "class Book {\n",
    "private:\n",
    "\tint pages;\n",
    "\tfloat weight;\n",
    "public: \n",
    "\tchar name;\n",
    "\n",
    "\tvoid getInfoBook () {\n",
    "\t\tcout << \"В книге \" << name << \" находиться \" << pages << \" страниц. \" << endl;\n",
    "\t\tcout << \"При этом она весит \" << weight << endl;\n",
    "\t} \n",
    " \n",
    "\tBook (int _pages, float _weight) {\n",
    "\t\tpages = _pages;\n",
    "\t\tweight = _weight;\n",
    "\t}\n",
    " \n",
    "\tBook (int _pages, float _weight, char _name) {\n",
    "\t\tpages = _pages;\n",
    "\t\tweight = _weight;\n",
    "\t\tname = _name;\n",
    "\t}\n",
    "};\n"
   ]
  },
  {
   "cell_type": "markdown",
   "metadata": {},
   "source": [
    "В одном классе может быть сразу несколько конструкторов. Создав несколько конструкторов мы можем передавать разное количество параметров при создании объекта.\n",
    "\n",
    "\n",
    "\n",
    "Компилятор сам определяет какой конструктор необходимо использовать в зависимости от передаваемых параметров и их типов данных. \n",
    "\n",
    "\n",
    "\n",
    "В коде выше переменные идут с модификатором доступа **private**. Дело в том, что все переменные лучше делать либо **private**, либо **protected**. Доступ к переменным должен осуществляться только за счёт методов и конструкторов. Доступ к полям напрямую должен быть закрыт.\n",
    "\n",
    "\n",
    "\n",
    "Дополнительно создадим два объекта и выведем информацию:"
   ]
  },
  {
   "cell_type": "code",
   "execution_count": null,
   "metadata": {
    "vscode": {
     "languageId": "cpp"
    }
   },
   "outputs": [],
   "source": [
    "int main() {\n",
    "\tBook sherlock_holms(460, 1.7f); // Используем 1 конструктор\n",
    "\tsherlock_holms.name = 'S'; // Устанавливаем вручную значение для name\n",
    "\tsherlock_holms.getInfoBook ();\n",
    " \n",
    "\tBook green_mile(750, 2.8f, 'G'); // Используем второй конструктор\n",
    "\tgreen_mile.getInfoBook ();\n",
    " \n",
    "\treturn 0;\n",
    "}"
   ]
  },
  {
   "cell_type": "markdown",
   "metadata": {},
   "source": [
    "Поскольку переменная **name** имеет **public** модификатор доступа, то мы можем ссылаться к ней отдельно. Лучше так не делать и для неё тоже установить модификатор private.\n",
    "\n",
    "\n",
    "\n",
    "Также конструктор может не принимать параметров. В таком случае при создании объекта ничего не надо дополнительно передавать."
   ]
  },
  {
   "cell_type": "markdown",
   "metadata": {},
   "source": [
    "# Указатель this"
   ]
  },
  {
   "cell_type": "markdown",
   "metadata": {},
   "source": [
    "За счёт указателя **this** мы можем точно указать откуда берутся данные. При работе с данными внутри одного класса часто необходимо обратить к полям или методом самого класса. Чтобы не возникало конфликтов имен можно использовать указать «**this**».\n",
    "\n",
    "\n",
    "\n",
    "Пример работы:"
   ]
  },
  {
   "cell_type": "code",
   "execution_count": null,
   "metadata": {
    "vscode": {
     "languageId": "cpp"
    }
   },
   "outputs": [],
   "source": [
    "class Some {\n",
    "private\n",
    "\tint test;\n",
    "\n",
    "public:\n",
    "\tvoid set (int test) {\n",
    "\t\tthis->test = test;\n",
    "\t}\n",
    "};"
   ]
  },
  {
   "cell_type": "markdown",
   "metadata": {},
   "source": [
    "# Деструкторы"
   ]
  },
  {
   "cell_type": "markdown",
   "metadata": {},
   "source": [
    "Деструкторы работают в обратную сторону от конструкторов. Конструктор вызывается при создании объекта, а деструктор при удалении.\n",
    "\n",
    "Пример создания деструктора:"
   ]
  },
  {
   "cell_type": "code",
   "execution_count": null,
   "metadata": {
    "vscode": {
     "languageId": "cpp"
    }
   },
   "outputs": [],
   "source": [
    "class Some {\n",
    "public:\n",
    "\t~Some () {\n",
    "\t\tcout << \"Работа с объектом завершена.\";\n",
    "\t}\n",
    "};"
   ]
  }
 ],
 "metadata": {
  "language_info": {
   "name": "python"
  }
 },
 "nbformat": 4,
 "nbformat_minor": 2
}
