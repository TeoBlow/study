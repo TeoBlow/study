{
 "cells": [
  {
   "cell_type": "markdown",
   "metadata": {},
   "source": [
    "# Работа со строкой"
   ]
  },
  {
   "cell_type": "code",
   "execution_count": null,
   "metadata": {
    "vscode": {
     "languageId": "cpp"
    }
   },
   "outputs": [],
   "source": [
    "// Склеивание, соединение двух строк, массивов.\n",
    "\n",
    "#include <cstring>\n",
    "strncat(\"first_str\", \"second_str\");   // конкатенация\n",
    "\n",
    "// first_strsecond_str"
   ]
  },
  {
   "cell_type": "code",
   "execution_count": null,
   "metadata": {
    "vscode": {
     "languageId": "cpp"
    }
   },
   "outputs": [],
   "source": [
    "// Поиск длины массива, строки\n",
    "\n",
    "#include <cstring>\n",
    "strlen(\"aboba\");\n",
    "\n",
    "// 5"
   ]
  },
  {
   "cell_type": "code",
   "execution_count": null,
   "metadata": {
    "vscode": {
     "languageId": "cpp"
    }
   },
   "outputs": [],
   "source": [
    "// Поиск наличия строки в строке\n",
    "\n",
    "#include <cstring>\n",
    "strstr(\"kekkok\", \"kek\");\n",
    "\n",
    "// kekkok"
   ]
  },
  {
   "cell_type": "code",
   "execution_count": null,
   "metadata": {
    "vscode": {
     "languageId": "cpp"
    }
   },
   "outputs": [],
   "source": [
    "# Работа с массивом"
   ]
  },
  {
   "cell_type": "code",
   "execution_count": null,
   "metadata": {
    "vscode": {
     "languageId": "cpp"
    }
   },
   "outputs": [],
   "source": [
    "// Сортировка\n",
    "\n",
    "#include <algorithm>\n",
    "int a[100] = { ... };\n",
    "sort(a, a + 100);"
   ]
  },
  {
   "cell_type": "code",
   "execution_count": null,
   "metadata": {
    "vscode": {
     "languageId": "cpp"
    }
   },
   "outputs": [],
   "source": [
    "// Максимум и минимум\n",
    "\n",
    "#include <algorithm>\n",
    "\n",
    "int *minptr = min_element(a, a + 100);\n",
    "int *maxptr = max_element(a, a + 100); \n",
    "\n",
    "// Возвращает указатель!!"
   ]
  }
 ],
 "metadata": {
  "language_info": {
   "name": "python"
  },
  "orig_nbformat": 4
 },
 "nbformat": 4,
 "nbformat_minor": 2
}
