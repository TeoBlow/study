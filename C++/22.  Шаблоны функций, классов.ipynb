{
 "cells": [
  {
   "cell_type": "markdown",
   "metadata": {},
   "source": [
    "# Шаблоны функций"
   ]
  },
  {
   "cell_type": "markdown",
   "metadata": {},
   "source": [
    "Шаблоны функций, а также шаблоны классов в языке C++ это мощные технологии, что позволяют создавать шаблонные конструкции и далее при передачи данных передавать как значения, так и типы данных.\n",
    "\n",
    "\n",
    "\n",
    "Для создания шаблонной функции необходимо использовать ключевое слово **template**, а также в угловых скобках необходимо указывать принимаемый тип данных. Можно принимать один или несколько типов данных. \n",
    "\n",
    "\n",
    "\n",
    "Пример создания шаблонной функции:"
   ]
  },
  {
   "cell_type": "code",
   "execution_count": null,
   "metadata": {
    "vscode": {
     "languageId": "cpp"
    }
   },
   "outputs": [],
   "source": [
    "template <typename Type1> // Указываем что это шаблон функции\n",
    "// Принимаем параметр value и его тип данных мы получим\n",
    "// также в качестве передаваемого параметра - Type1\n",
    "void funct (Type1 *value) {\n",
    "\tcout << value; // Просто выводим это значение\n",
    "}"
   ]
  },
  {
   "cell_type": "markdown",
   "metadata": {},
   "source": [
    "Для передачи нескольких типов данных стоит прописать следующее:"
   ]
  },
  {
   "cell_type": "code",
   "execution_count": null,
   "metadata": {
    "vscode": {
     "languageId": "cpp"
    }
   },
   "outputs": [],
   "source": [
    "// Здесь мы получаем сразу два типа данных\n",
    "template <typename Type1, typename Type2>\n",
    "void funct (Type1 *value, Type2 *newValue) {\n",
    "\t// Мы можем использовать передаваемые типы в самой функции\n",
    "\tType1 someNew;\n",
    "\tcout << newValue; // Просто выводим значение\n",
    "}"
   ]
  },
  {
   "cell_type": "markdown",
   "metadata": {},
   "source": [
    "Для вызова шаблонной функции пропишите следующее:"
   ]
  },
  {
   "cell_type": "code",
   "execution_count": null,
   "metadata": {
    "vscode": {
     "languageId": "cpp"
    }
   },
   "outputs": [],
   "source": [
    "// Вызов функции с одним параметром\n",
    "funct<double>(value);\n",
    "// Вызов с несколькими параметрами\n",
    "funct<char, double>(value, oneMoreValue);"
   ]
  },
  {
   "cell_type": "markdown",
   "metadata": {},
   "source": [
    "# Шаблоны классов"
   ]
  },
  {
   "cell_type": "markdown",
   "metadata": {},
   "source": [
    "Шаблоны классов работают по тому же принципу что и шаблоны функций. Разница заключается в том, что шаблоны классов описывают шаблонную структура класса, а не функции.\n",
    "\n",
    "\n",
    "\n",
    "Для создания шаблона класса используйте ключевое слово **template**.  Пример реализации шаблонного класса:"
   ]
  },
  {
   "cell_type": "code",
   "execution_count": null,
   "metadata": {
    "vscode": {
     "languageId": "cpp"
    }
   },
   "outputs": [],
   "source": [
    "template <class SomeType>\n",
    "class Test {\n",
    "private:\n",
    "\tSomeType value;\n",
    "public: \n",
    "\tSomeType setElement(SomeType value) {\n",
    "\t\tthis->value = value;\n",
    "\t\treturn value;\n",
    "\t}\n",
    "};"
   ]
  },
  {
   "cell_type": "markdown",
   "metadata": {},
   "source": [
    "При создании объекта на основе шаблонного класса необходимо передать не только значения, но также тип данных.\n",
    "\n",
    "Пример создания объекта:"
   ]
  },
  {
   "cell_type": "code",
   "execution_count": null,
   "metadata": {
    "vscode": {
     "languageId": "cpp"
    }
   },
   "outputs": [],
   "source": [
    "Test<float> newObject;\n",
    "newObject.setElement(2.6);"
   ]
  },
  {
   "cell_type": "markdown",
   "metadata": {},
   "source": [
    "# Пример полного кода с шаблонами"
   ]
  },
  {
   "cell_type": "code",
   "execution_count": null,
   "metadata": {
    "vscode": {
     "languageId": "cpp"
    }
   },
   "outputs": [],
   "source": [
    "#include <iostream>\n",
    "#include <string>\n",
    "\n",
    "using namespace std;\n",
    "\n",
    "template <typename T, typename T2>\n",
    "void print_arr(T* arr, int len) {\n",
    "\tfor (T2 i = 0; i < len; i++)\n",
    "\t\tcout << *(arr + i) << \" \";\n",
    "\n",
    "\tcout << endl;\n",
    "}\n",
    "\n",
    "int main() {\n",
    "\tsetlocale(LC_ALL, \"RU\");\n",
    "\n",
    "\tint arr1[] = { 5, 6, 3, 2, 0, -4 };\n",
    "\tprint_arr<int, int>(arr1, 6);\n",
    "\n",
    "\tfloat arr2[] = { 5.34f, 6.01f, 3.23f };\n",
    "\tprint_arr<float, int>(arr2, 3);\n",
    "\n",
    "\treturn 0;\n",
    "}"
   ]
  }
 ],
 "metadata": {
  "language_info": {
   "name": "python"
  }
 },
 "nbformat": 4,
 "nbformat_minor": 2
}
