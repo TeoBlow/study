{
 "cells": [
  {
   "cell_type": "markdown",
   "metadata": {},
   "source": [
    "# Цикл *for*"
   ]
  },
  {
   "cell_type": "markdown",
   "metadata": {},
   "source": [
    "В объявлении цикла записывается следующее: *переменная цикла*, *её начальное значение* и *диапазон*."
   ]
  },
  {
   "cell_type": "code",
   "execution_count": null,
   "metadata": {
    "vscode": {
     "languageId": "cpp"
    }
   },
   "outputs": [],
   "source": [
    "for (int i = 0; i <= 10; i++) {\n",
    "\tstd::cout << i << std::endl;\n",
    "}"
   ]
  },
  {
   "cell_type": "markdown",
   "metadata": {},
   "source": [
    "# Цикл *While*"
   ]
  },
  {
   "cell_type": "markdown",
   "metadata": {},
   "source": [
    "Суть цикла *while* не особо отличается от цикла for. Единственное отличие заключается в способе записи цикла. В *while* необходимо прописать лишь условие, а все остальные параметры записываются вне цикла:"
   ]
  },
  {
   "cell_type": "code",
   "execution_count": null,
   "metadata": {
    "vscode": {
     "languageId": "cpp"
    }
   },
   "outputs": [],
   "source": [
    "int i = 1; // Создание переменной\n",
    "while (i <= 10) { // Здесь только условие\n",
    "\tstd::cout << i << std::endl;\n",
    "\ti++; // Увеличение переменной\n",
    "}"
   ]
  },
  {
   "cell_type": "markdown",
   "metadata": {},
   "source": [
    "# Цикл *Do While*"
   ]
  },
  {
   "cell_type": "markdown",
   "metadata": {},
   "source": [
    "Цикл схож с циклом *while* по форме написания, но при этом работает немного по-другому. Цикл *do..while* будет выполнен один раз сто процентов, а дальше проверит условие и если оно верно, то цикл будет выполняться дальше:"
   ]
  },
  {
   "cell_type": "code",
   "execution_count": null,
   "metadata": {
    "vscode": {
     "languageId": "cpp"
    }
   },
   "outputs": [],
   "source": [
    "int x = 13;\n",
    "do {\n",
    "\tx--;\n",
    "\tcout << x << endl;\n",
    "} while (x < 10);\n",
    "\n",
    "// 12"
   ]
  },
  {
   "cell_type": "markdown",
   "metadata": {},
   "source": [
    "# Операторы для работы в циклах"
   ]
  },
  {
   "cell_type": "markdown",
   "metadata": {},
   "source": [
    "Оператор **break** - служит для выхода из цикла полностью;\n",
    "\n",
    "Оператор **continue** - пропускает лишь одну итерацию и не выходит из цикла."
   ]
  }
 ],
 "metadata": {
  "language_info": {
   "name": "python"
  }
 },
 "nbformat": 4,
 "nbformat_minor": 2
}
