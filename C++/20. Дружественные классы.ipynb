{
 "cells": [
  {
   "cell_type": "markdown",
   "metadata": {},
   "source": [
    "# Дружественные классы"
   ]
  },
  {
   "cell_type": "markdown",
   "metadata": {},
   "source": [
    "Почти тоже самое что и дружественная функция. Единственное отличие заключается в объединение не просто функций, а целых классов.\n",
    "\n",
    "\n",
    "\n",
    "Благодаря дружественному свойству мы можем указать несколько классов, что будут связаны между собой. Это позволит брать данные через объект сразу из нескольких классов.\n",
    "\n",
    "\n",
    "\n",
    "За счёт этого мы может точно описать логику для различных персонажей в игре или для окон в приложении. Все они могут быть записаны в разных классах, но при этом каждый сможет иметь доступ друг к другу.\n",
    "\n",
    "\n",
    "\n",
    "Пример создания дружественного класса:"
   ]
  },
  {
   "cell_type": "code",
   "execution_count": null,
   "metadata": {
    "vscode": {
     "languageId": "cpp"
    }
   },
   "outputs": [],
   "source": [
    "class Auto;\n",
    "class Motorcycle {\n",
    "\tfriend class Auto;\n",
    "private: \n",
    "\tbool isStillWorking = true;\n",
    "};\n",
    "\n",
    "class Auto {\n",
    "public:\n",
    "\tvoid CrashDTP(Auto &moto) {\n",
    "\t\tmoto.isStillWorking = false;\n",
    "\t\tcout << \"Motorcycle is currently not working!\";\n",
    "\t}\n",
    "};"
   ]
  }
 ],
 "metadata": {
  "language_info": {
   "name": "python"
  }
 },
 "nbformat": 4,
 "nbformat_minor": 2
}
